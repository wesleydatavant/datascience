{
 "cells": [
  {
   "cell_type": "markdown",
   "id": "a9065e8e",
   "metadata": {},
   "source": [
    "<a href=\"https://colab.research.google.com/github/wesleydatavant/datascience/blob/main/notebooks/vectorized_distances.ipynb\" target=\"_parent\"><img src=\"https://colab.research.google.com/assets/colab-badge.svg\" alt=\"Open In Colab\"/></a>"
   ]
  },
  {
   "cell_type": "markdown",
   "id": "7c941f08-e882-4cbe-ae18-57d8053914a3",
   "metadata": {},
   "source": [
    "# Vectorized Distances\n",
    "\n",
    "<br>\n",
    "\n",
    "---\n",
    "\n",
    "<br>\n",
    "\n",
    "In this project notebook we'll be comparing for loop and vectorized implemented distance calculations. With large datasets, the vectorized formulation becomes more than 1000 times faster!\n",
    "\n",
    "<br>\n",
    "\n",
    "---"
   ]
  },
  {
   "cell_type": "markdown",
   "id": "52b7bc61-9f38-4c59-9a3f-dbf0bbbe173b",
   "metadata": {},
   "source": [
    "## Imports"
   ]
  },
  {
   "cell_type": "code",
   "execution_count": 92,
   "id": "c73d286a-3e9e-4a14-95c6-e43dbc6fa8e8",
   "metadata": {},
   "outputs": [],
   "source": [
    "import numpy as np\n",
    "import pandas as pd\n",
    "import matplotlib.pyplot as plt\n",
    "\n",
    "from scipy.spatial.distance import cdist\n",
    "from haversine import haversine, Unit\n",
    "from math import isclose"
   ]
  },
  {
   "cell_type": "markdown",
   "id": "0ffc483e-c727-4fa0-b336-f82799c37389",
   "metadata": {},
   "source": [
    "## Sample Data"
   ]
  },
  {
   "cell_type": "code",
   "execution_count": 93,
   "id": "ee2b3352-5206-4f9f-b011-e467b58ebaf6",
   "metadata": {},
   "outputs": [],
   "source": [
    "tx_json = {\"city\":{\"4\":\"Dallas\",\"5\":\"Houston\",\"33\":\"Austin\",\"55\":\"Fort Worth\"},\n",
    "           \"state_name\":{\"4\":\"Texas\",\"5\":\"Texas\",\"33\":\"Texas\",\"55\":\"Texas\"},\n",
    "           \"lat\":{\"4\":32.7935,\"5\":29.786,\"33\":30.3005,\"55\":32.7817},\n",
    "           \"lng\":{\"4\":-96.7667,\"5\":-95.3885,\"33\":-97.7522,\"55\":-97.3474}}\n",
    "df = pd.DataFrame(tx_json)\n",
    "lat = df['lat'].values\n",
    "lng = df['lng'].values\n",
    "x = np.array([lat, lng]).T\n",
    "y = x.copy()"
   ]
  },
  {
   "cell_type": "markdown",
   "id": "1d9dfbc9-8b46-4717-b794-b2c07e2ede5e",
   "metadata": {},
   "source": [
    "### Pseudo Large Dataset for Speed Check"
   ]
  },
  {
   "cell_type": "code",
   "execution_count": 99,
   "id": "0f08af58-8998-4ab3-b0d9-91df2a53ec43",
   "metadata": {},
   "outputs": [
    {
     "name": "stdout",
     "output_type": "stream",
     "text": [
      "(4000, 2)\n",
      "(4000, 2)\n"
     ]
    }
   ],
   "source": [
    "a = np.tile(x.T,1000).T\n",
    "b = np.tile(y.T,1000).T\n",
    "print(a.shape)\n",
    "print(b.shape)"
   ]
  },
  {
   "cell_type": "markdown",
   "id": "8804f9df-e227-46f2-ae32-4dec45e2be15",
   "metadata": {},
   "source": [
    "## Euclidean Distance"
   ]
  },
  {
   "cell_type": "code",
   "execution_count": 5,
   "id": "0f1bd545-7dea-4f9e-bc40-5736a6009fe1",
   "metadata": {},
   "outputs": [],
   "source": [
    "def dist(a, b):\n",
    "    \n",
    "    \"\"\"\n",
    "    returns the geometric distance of two long lat coordinates\n",
    "    \n",
    "    Parameters\n",
    "    ----------\n",
    "    a : numpy array\n",
    "        the long lat coordinate of the patient\n",
    "    b : numpy array\n",
    "        the long lat coordinate of the site(s). can either be a single\n",
    "    site or multiple sites\n",
    "    \n",
    "    Returns\n",
    "    -------\n",
    "    distances : array or float\n",
    "        dist will return a float if only a single site is specified in b,\n",
    "        otherwise will return an array\n",
    "    \"\"\"\n",
    "    \n",
    "    # if a is a list of patient zips\n",
    "    if len(a.shape) > 1:\n",
    "        a = a[:, None, :]\n",
    "        b = b[None, :, :]\n",
    "        \n",
    "    return np.sqrt(((a-b)**2).sum(axis=-1))\n",
    "      \n",
    "    # else if b is a list of site zips\n",
    "    if len(b.shape) > 1:\n",
    "        b = b.T\n",
    "        \n",
    "    return np.sqrt((a[0] - b[0])**2 + (a[1] - b[1])**2)\n",
    "\n",
    "def dist_no_np(a_, b_):\n",
    "    res = []\n",
    "    for a in a_:\n",
    "        ress = []\n",
    "        for b in b_:\n",
    "            ress.append(np.sqrt((a[0] - b[0])**2 + (a[1] - b[1])**2))\n",
    "        res.append(ress)"
   ]
  },
  {
   "cell_type": "markdown",
   "id": "ba8843a7-944b-40dc-83ac-892a860c676b",
   "metadata": {},
   "source": [
    "### Speed Check"
   ]
  },
  {
   "cell_type": "code",
   "execution_count": 6,
   "id": "50a5d74c-2a87-41fd-be53-84217c0c8d22",
   "metadata": {},
   "outputs": [
    {
     "name": "stdout",
     "output_type": "stream",
     "text": [
      "473 µs ± 19.1 µs per loop (mean ± std. dev. of 7 runs, 1,000 loops each)\n"
     ]
    }
   ],
   "source": [
    "%%timeit\n",
    "dist(a, b)"
   ]
  },
  {
   "cell_type": "code",
   "execution_count": 7,
   "id": "2613994d-387d-427b-b5d5-2fed4cc0c40f",
   "metadata": {},
   "outputs": [
    {
     "name": "stdout",
     "output_type": "stream",
     "text": [
      "161 ms ± 457 µs per loop (mean ± std. dev. of 7 runs, 10 loops each)\n"
     ]
    }
   ],
   "source": [
    "%%timeit\n",
    "dist_no_np(a, b)"
   ]
  },
  {
   "cell_type": "code",
   "execution_count": 8,
   "id": "945c68ea-afa1-44f6-9b55-a5cfdcb29bda",
   "metadata": {},
   "outputs": [
    {
     "name": "stdout",
     "output_type": "stream",
     "text": [
      "126 µs ± 482 ns per loop (mean ± std. dev. of 7 runs, 10,000 loops each)\n"
     ]
    }
   ],
   "source": [
    "%%timeit\n",
    "cdist(a, b, metric='euclidean')"
   ]
  },
  {
   "cell_type": "code",
   "execution_count": 9,
   "id": "274d2279-87a7-493f-b765-8a8d8166c926",
   "metadata": {},
   "outputs": [],
   "source": [
    "euclid_result = dist(x, y)"
   ]
  },
  {
   "cell_type": "code",
   "execution_count": 10,
   "id": "9281c7be-1c06-46d1-aa39-c995cee844c7",
   "metadata": {},
   "outputs": [
    {
     "data": {
      "text/plain": [
       "array([[0.        , 3.30824598, 2.68071991, 0.58081988],\n",
       "       [3.30824598, 0.        , 2.41904691, 3.57931665],\n",
       "       [2.68071991, 2.41904691, 0.        , 2.51400407],\n",
       "       [0.58081988, 3.57931665, 2.51400407, 0.        ]])"
      ]
     },
     "execution_count": 10,
     "metadata": {},
     "output_type": "execute_result"
    }
   ],
   "source": [
    "cdist(x, y, metric='euclidean')"
   ]
  },
  {
   "cell_type": "markdown",
   "id": "0d2482e9-9bdd-47f4-8da5-d3124a028552",
   "metadata": {},
   "source": [
    "## Haversine Distance"
   ]
  },
  {
   "cell_type": "markdown",
   "id": "0fa2a1b6-9319-4a18-b31c-380db58dc4b1",
   "metadata": {},
   "source": [
    "### Non Vectorized"
   ]
  },
  {
   "cell_type": "code",
   "execution_count": 38,
   "id": "5f8c5f17-a2a6-4759-b06d-3c41b645a7b8",
   "metadata": {},
   "outputs": [],
   "source": [
    "# if you have the local file https://simplemaps.com/data/us-cities\n",
    "df = pd.read_csv(\"../../Downloads/simplemaps_uscities_basicv1.75/uscities.csv\")\n",
    "df = df.loc[(df['city'].isin(['Austin', 'Dallas', 'Fort Worth', 'Houston'])) &\n",
    "       (df['state_id'] == 'TX')]\n",
    "\n",
    "# df[['city', 'state_name', 'lat', 'lng']].to_json()"
   ]
  },
  {
   "cell_type": "code",
   "execution_count": 39,
   "id": "4ba53c8d-02d6-42d5-bfe1-86470fcf430d",
   "metadata": {},
   "outputs": [],
   "source": [
    "def test_haversine():\n",
    "    tx_json = {\"city\":{\"4\":\"Dallas\",\"5\":\"Houston\",\"33\":\"Austin\",\"55\":\"Fort Worth\"},\n",
    "               \"state_name\":{\"4\":\"Texas\",\"5\":\"Texas\",\"33\":\"Texas\",\"55\":\"Texas\"},\n",
    "               \"lat\":{\"4\":32.7935,\"5\":29.786,\"33\":30.3005,\"55\":32.7817},\n",
    "               \"lng\":{\"4\":-96.7667,\"5\":-95.3885,\"33\":-97.7522,\"55\":-97.3474}}\n",
    "    df = pd.DataFrame(tx_json)\n",
    "    lat = df['lat'].values\n",
    "    lng = df['lng'].values\n",
    "    x = np.array([lat, lng]).T\n",
    "    y = x.copy()\n",
    "    # https://stackoverflow.com/questions/58307211/python-generate-distance-matrix-for-large-number-of-locations\n",
    "    answer = cdist(x, y, metric=haversine, unit= Unit.MILES)\n",
    "    tx_distances = np.array([[  0.        , 223.15619132, 181.75853929,  33.74018707],\n",
    "                           [223.15619132,   0.        , 145.77171262, 237.09579454],\n",
    "                           [181.75853929, 145.77171262,   0.        , 173.08331265],\n",
    "                           [ 33.74018707, 237.09579454, 173.08331265,   0.        ]])\n",
    "    isvect = np.vectorize(isclose)\n",
    "    assert isvect(answer, tx_distances, abs_tol=1).all(), \"distances are incorrect\"\n",
    "    print(\"Test Passed\")"
   ]
  },
  {
   "cell_type": "code",
   "execution_count": 40,
   "id": "632e3a9a-bdd6-4584-9f1a-b1d84aa3542f",
   "metadata": {},
   "outputs": [
    {
     "name": "stdout",
     "output_type": "stream",
     "text": [
      "Test Passed\n"
     ]
    }
   ],
   "source": [
    "test_haversine()"
   ]
  },
  {
   "cell_type": "code",
   "execution_count": 75,
   "id": "6c23e034-4b1f-41b8-a339-ee9778c1ffc4",
   "metadata": {},
   "outputs": [],
   "source": [
    "EARTH_RADIUS = 3958.76\n",
    "# Copied from the pgeocode library (along with the zip code lat/lon values)\n",
    "# https://github.com/symerio/pgeocode/blob/96b86f5e8b9569de0dd5eaa37385cb06752bb944/pgeocode.py#L396\n",
    "# note that the docstring is incorrect as this will only work with arrays of shape (1, 2)\n",
    "def haversine_distance(x, y):\n",
    "    \"\"\"Haversine (great circle) distance\n",
    "    Calculate the great circle distance between two points\n",
    "    on the earth (specified in decimal degrees)\n",
    "    Parameters\n",
    "    ----------\n",
    "    x : array, shape=(n_samples, 2)\n",
    "      the first list of coordinates (degrees)\n",
    "    y : array: shape=(n_samples, 2)\n",
    "      the second list of coordinates (degress)\n",
    "    Returns\n",
    "    -------\n",
    "    d : array, shape=(n_samples,)\n",
    "      the distance between corrdinates (km)\n",
    "    References\n",
    "    ----------\n",
    "    https://en.wikipedia.org/wiki/Great-circle_distance\n",
    "    \"\"\"\n",
    "    # if the points are the same, their distance is zero\n",
    "    if x[0] == y[0] and x[1] == y[1]:\n",
    "        return 0\n",
    "    x_rad = np.radians(x)\n",
    "    y_rad = np.radians(y)\n",
    "\n",
    "    \n",
    "    d = y_rad - x_rad\n",
    "\n",
    "    dlat, dlon = d.T\n",
    "    x_lat = x_rad[0]\n",
    "    y_lat = y_rad[0]\n",
    "\n",
    "    a = (\n",
    "        np.sin(dlat / 2.0) ** 2\n",
    "        + np.cos(x_lat) * np.cos(y_lat) * np.sin(dlon / 2.0) ** 2\n",
    "    )\n",
    "\n",
    "    c = 2 * np.arcsin(np.sqrt(a))\n",
    "    return EARTH_RADIUS * c\n",
    "\n",
    "def hav_dist_no_np(a_, b_):\n",
    "    res = []\n",
    "    for a in a_:\n",
    "        ress = []\n",
    "        for b in b_:\n",
    "            ress.append(haversine_distance(a, b))\n",
    "        res.append(ress)\n",
    "    return res"
   ]
  },
  {
   "cell_type": "code",
   "execution_count": 82,
   "id": "3a27e8ae-6698-4255-9cc3-de724d8cb24f",
   "metadata": {},
   "outputs": [],
   "source": [
    "def test_haversine_non_vect():\n",
    "    tx_json = {\"city\":{\"4\":\"Dallas\",\"5\":\"Houston\",\"33\":\"Austin\",\"55\":\"Fort Worth\"},\n",
    "               \"state_name\":{\"4\":\"Texas\",\"5\":\"Texas\",\"33\":\"Texas\",\"55\":\"Texas\"},\n",
    "               \"lat\":{\"4\":32.7935,\"5\":29.786,\"33\":30.3005,\"55\":32.7817},\n",
    "               \"lng\":{\"4\":-96.7667,\"5\":-95.3885,\"33\":-97.7522,\"55\":-97.3474}}\n",
    "    df = pd.DataFrame(tx_json)\n",
    "    lat = df['lat'].values\n",
    "    lng = df['lng'].values\n",
    "    x = np.array([lat, lng]).T\n",
    "    y = x.copy()\n",
    "    answer = np.array(hav_dist_no_np(x, y))\n",
    "    tx_distances = np.array([[  0.        , 223.15619132, 181.75853929,  33.74018707],\n",
    "                           [223.15619132,   0.        , 145.77171262, 237.09579454],\n",
    "                           [181.75853929, 145.77171262,   0.        , 173.08331265],\n",
    "                           [ 33.74018707, 237.09579454, 173.08331265,   0.        ]])\n",
    "    isvect = np.vectorize(isclose)\n",
    "    assert isvect(answer, tx_distances, abs_tol=1).all(), \"distances are incorrect\"\n",
    "    print(\"Test Passed\")"
   ]
  },
  {
   "cell_type": "code",
   "execution_count": 83,
   "id": "78b80172-11fc-4f7e-a8fe-65c8fcc4a7fd",
   "metadata": {},
   "outputs": [
    {
     "name": "stdout",
     "output_type": "stream",
     "text": [
      "Test Passed\n"
     ]
    }
   ],
   "source": [
    "test_haversine_non_vect()"
   ]
  },
  {
   "cell_type": "markdown",
   "id": "a5d247dd-5397-4043-a77e-a1292d0dc288",
   "metadata": {},
   "source": [
    "### Vectorized"
   ]
  },
  {
   "cell_type": "code",
   "execution_count": 80,
   "id": "c91756bd-9b22-4608-9aed-da26cb9d6fea",
   "metadata": {},
   "outputs": [],
   "source": [
    "def haversine_vectorized(x, y):\n",
    "    \"\"\"\n",
    "    Vectorized haversine formual will work with arrays of long/lat coordinates\n",
    "    \n",
    "    Parameters\n",
    "    ----------\n",
    "    x : array, shape=(n_samples_1, 2)\n",
    "      the first list of coordinates (degrees)\n",
    "    y : array: shape=(n_samples_2, 2)\n",
    "      the second list of coordinates (degress)\n",
    "    Returns\n",
    "    -------\n",
    "    d : array, shape=(n_samples_1, n_samples_2)\n",
    "      the distance between corrdinates (km)\n",
    "    \"\"\"\n",
    "    EARTH_RADIUS = 3958.76\n",
    "    \n",
    "    # convert all latitudes/longitudes from decimal degrees to radians\n",
    "    x_rad = np.radians(x)\n",
    "    y_rad = np.radians(y)\n",
    "\n",
    "    # unpack latitude/longitude\n",
    "    x_lat, x_lng = x_rad[:, 0], x_rad[:, 1]\n",
    "    y_lat, y_lng = y_rad[:, 0], y_rad[:, 1]\n",
    "\n",
    "    # broadcast, can also use np.expand_dims\n",
    "    x_lat = x_lat[None, :]\n",
    "    x_lng = x_lng[None, :]\n",
    "    y_lat = y_lat[:, None]\n",
    "    y_lng = y_lng[:, None]\n",
    "\n",
    "    # calculate haversine\n",
    "    d_lat = y_lat - x_lat\n",
    "    d_lng = y_lng - x_lng\n",
    "\n",
    "    a = (np.sin(d_lat / 2.0) ** 2\n",
    "         + np.cos(x_lat) * np.cos(y_lat) * np.sin(d_lng / 2.0) ** 2)\n",
    "\n",
    "    return 2 * EARTH_RADIUS * np.arcsin(np.sqrt(a))"
   ]
  },
  {
   "cell_type": "code",
   "execution_count": 81,
   "id": "387212e3-7e64-4d7a-a064-bac4a63d6e6a",
   "metadata": {},
   "outputs": [
    {
     "data": {
      "text/plain": [
       "array([[  0.        , 223.15611622, 181.75847812,  33.74017572],\n",
       "       [223.15611622,   0.        , 145.77166356, 237.09571474],\n",
       "       [181.75847812, 145.77166356,   0.        , 173.0832544 ],\n",
       "       [ 33.74017572, 237.09571474, 173.0832544 ,   0.        ]])"
      ]
     },
     "execution_count": 81,
     "metadata": {},
     "output_type": "execute_result"
    }
   ],
   "source": [
    "haversine_vectorized(x, y)"
   ]
  },
  {
   "cell_type": "code",
   "execution_count": 84,
   "id": "e8229fd0-1073-42f2-a78a-2e473832db38",
   "metadata": {},
   "outputs": [],
   "source": [
    "def test_haversine_vect():\n",
    "    tx_json = {\"city\":{\"4\":\"Dallas\",\"5\":\"Houston\",\"33\":\"Austin\",\"55\":\"Fort Worth\"},\n",
    "               \"state_name\":{\"4\":\"Texas\",\"5\":\"Texas\",\"33\":\"Texas\",\"55\":\"Texas\"},\n",
    "               \"lat\":{\"4\":32.7935,\"5\":29.786,\"33\":30.3005,\"55\":32.7817},\n",
    "               \"lng\":{\"4\":-96.7667,\"5\":-95.3885,\"33\":-97.7522,\"55\":-97.3474}}\n",
    "    df = pd.DataFrame(tx_json)\n",
    "    lat = df['lat'].values\n",
    "    lng = df['lng'].values\n",
    "    x = np.array([lat, lng]).T\n",
    "    y = x.copy()\n",
    "    answer = haversine_vectorized(x, y)\n",
    "    tx_distances = np.array([[  0.        , 223.15619132, 181.75853929,  33.74018707],\n",
    "                           [223.15619132,   0.        , 145.77171262, 237.09579454],\n",
    "                           [181.75853929, 145.77171262,   0.        , 173.08331265],\n",
    "                           [ 33.74018707, 237.09579454, 173.08331265,   0.        ]])\n",
    "    isvect = np.vectorize(isclose)\n",
    "    assert isvect(answer, tx_distances, abs_tol=1).all(), \"distances are incorrect\"\n",
    "    print(\"Test Passed\")"
   ]
  },
  {
   "cell_type": "code",
   "execution_count": 86,
   "id": "84817d75-55e1-446b-8981-8a5f07c40c24",
   "metadata": {},
   "outputs": [
    {
     "name": "stdout",
     "output_type": "stream",
     "text": [
      "Test Passed\n"
     ]
    }
   ],
   "source": [
    "test_haversine_vect()"
   ]
  },
  {
   "cell_type": "markdown",
   "id": "065efcf7-c4f8-4d1e-bd0c-b84beb5db56d",
   "metadata": {},
   "source": [
    "### Speed Check"
   ]
  },
  {
   "cell_type": "markdown",
   "id": "c03e0ea4-2b50-4404-8e99-ed7db70652fb",
   "metadata": {},
   "source": [
    "Test with small arrays leads to 10x speedup"
   ]
  },
  {
   "cell_type": "code",
   "execution_count": 87,
   "id": "a6ab1170-0230-4dc5-8d42-7c5a00cb3b94",
   "metadata": {},
   "outputs": [
    {
     "name": "stdout",
     "output_type": "stream",
     "text": [
      "7.86 µs ± 42 ns per loop (mean ± std. dev. of 7 runs, 100,000 loops each)\n"
     ]
    }
   ],
   "source": [
    "%%timeit\n",
    "haversine_vectorized(x, y)"
   ]
  },
  {
   "cell_type": "code",
   "execution_count": 89,
   "id": "efa4db85-e554-4f69-8bcd-8591d7976a93",
   "metadata": {},
   "outputs": [
    {
     "name": "stdout",
     "output_type": "stream",
     "text": [
      "62.4 µs ± 434 ns per loop (mean ± std. dev. of 7 runs, 10,000 loops each)\n"
     ]
    }
   ],
   "source": [
    "%%timeit\n",
    "hav_dist_no_np(x, y)"
   ]
  },
  {
   "cell_type": "markdown",
   "id": "20f0cdc8-2226-4d10-b70b-2d98eeb9d64b",
   "metadata": {},
   "source": [
    "Test with large arrays leads to >1000x speedup"
   ]
  },
  {
   "cell_type": "code",
   "execution_count": 97,
   "id": "5671b1ce-c1d0-490a-b2f4-f5f7c03e7c46",
   "metadata": {},
   "outputs": [
    {
     "name": "stdout",
     "output_type": "stream",
     "text": [
      "277 ms ± 1.65 ms per loop (mean ± std. dev. of 7 runs, 1 loop each)\n"
     ]
    }
   ],
   "source": [
    "%%timeit\n",
    "haversine_vectorized(np.tile(x.T,1000).T, np.tile(x.T,1000).T)"
   ]
  },
  {
   "cell_type": "code",
   "execution_count": 98,
   "id": "a09492c8-3156-40f9-9e09-6e6dd24bced6",
   "metadata": {},
   "outputs": [
    {
     "name": "stdout",
     "output_type": "stream",
     "text": [
      "1min 1s ± 285 ms per loop (mean ± std. dev. of 7 runs, 1 loop each)\n"
     ]
    }
   ],
   "source": [
    "%%timeit\n",
    "hav_dist_no_np(np.tile(x.T,1000).T, np.tile(x.T,1000).T)"
   ]
  }
 ],
 "metadata": {
  "kernelspec": {
   "display_name": "Python 3 (ipykernel)",
   "language": "python",
   "name": "python3"
  },
  "language_info": {
   "codemirror_mode": {
    "name": "ipython",
    "version": 3
   },
   "file_extension": ".py",
   "mimetype": "text/x-python",
   "name": "python",
   "nbconvert_exporter": "python",
   "pygments_lexer": "ipython3",
   "version": "3.9.12"
  }
 },
 "nbformat": 4,
 "nbformat_minor": 5
}
